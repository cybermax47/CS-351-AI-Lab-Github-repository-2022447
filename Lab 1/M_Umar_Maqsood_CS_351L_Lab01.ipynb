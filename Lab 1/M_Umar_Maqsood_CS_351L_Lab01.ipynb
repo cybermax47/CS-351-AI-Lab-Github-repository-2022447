{
  "nbformat": 4,
  "nbformat_minor": 0,
  "metadata": {
    "colab": {
      "provenance": [],
      "authorship_tag": "ABX9TyOBbaugJFrDiv/yqdZnF/yI",
      "include_colab_link": true
    },
    "kernelspec": {
      "name": "python3",
      "display_name": "Python 3"
    },
    "language_info": {
      "name": "python"
    }
  },
  "cells": [
    {
      "cell_type": "markdown",
      "metadata": {
        "id": "view-in-github",
        "colab_type": "text"
      },
      "source": [
        "<a href=\"https://colab.research.google.com/github/cybermax47/CS-351-AI-Lab-Github-repository-2022447/blob/main/M_Umar_Maqsood_CS_351L_Lab01.ipynb\" target=\"_parent\"><img src=\"https://colab.research.google.com/assets/colab-badge.svg\" alt=\"Open In Colab\"/></a>"
      ]
    },
    {
      "cell_type": "markdown",
      "source": [
        "**Lab O1**\n",
        "\n",
        "---\n",
        "\n"
      ],
      "metadata": {
        "id": "gDPWHp5VMhkZ"
      }
    },
    {
      "cell_type": "markdown",
      "source": [
        "**TASK 01:**\n",
        "\n",
        "Implement Breadth Frist Search (BFS) for AI Number Guessing Game:"
      ],
      "metadata": {
        "id": "7u5W-cxRw7fC"
      }
    },
    {
      "cell_type": "code",
      "source": [
        "import random\n",
        "from collections import deque\n",
        "\n",
        "def bfs_number_guessing_game(min_value, max_value):\n",
        "    # Initialize the number of attempts\n",
        "    guess_attempts = 0\n",
        "\n",
        "    # Initialize the queue with the full range of possible numbers (min to max)\n",
        "    range_queue = deque([(min_value, max_value)])\n",
        "\n",
        "    # Instruct the user to think of a number within the specified range\n",
        "    print(f\"Think of a number between {min_value} and {max_value}, and I (the AI) will try to guess it.\")\n",
        "\n",
        "    # Continue the guessing process until the queue is empty or the correct number is guessed\n",
        "    while range_queue:\n",
        "        # Dequeue the current range to guess from\n",
        "        current_min, current_max = range_queue.popleft()\n",
        "\n",
        "        # AI makes a guess randomly within the current range\n",
        "        ai_guess = random.randint(current_min, current_max)\n",
        "        print(f\"My guess is: {ai_guess}\")\n",
        "\n",
        "        # Increment the number of guesses made\n",
        "        guess_attempts += 1\n",
        "\n",
        "        # Ask the user for feedback on whether the guess was too high, too low, or correct\n",
        "        player_feedback = input(\"Enter 'h' if my guess is too high, 'l' if too low, or 'c' if correct: \").lower()\n",
        "\n",
        "        if player_feedback == 'c':\n",
        "            # If the AI guessed correctly, print the number of attempts and exit\n",
        "            print(f\"I guessed your number in {guess_attempts} attempts!\")\n",
        "            return\n",
        "        elif player_feedback == 'h':\n",
        "            # If the guess was too high, add a new range to the queue (lower the max bound)\n",
        "            if current_min <= ai_guess - 1:  # Ensure the new range is valid\n",
        "                range_queue.append((current_min, ai_guess - 1))\n",
        "        elif player_feedback == 'l':\n",
        "            # If the guess was too low, add a new range to the queue (raise the min bound)\n",
        "            if ai_guess + 1 <= current_max:  # Ensure the new range is valid\n",
        "                range_queue.append((ai_guess + 1, current_max))\n",
        "\n",
        "    # If the queue is empty and no correct guess was made (unlikely scenario), this prints\n",
        "    print(\"I couldn't guess the number. Queue is empty.\")\n",
        "\n",
        "# Start the number guessing game with an initial range of 1 to 100\n",
        "bfs_number_guessing_game(1, 100)\n"
      ],
      "metadata": {
        "colab": {
          "base_uri": "https://localhost:8080/"
        },
        "id": "PguaZfrsxSKA",
        "outputId": "092e1f42-b2b1-4652-e511-a12902505fb9"
      },
      "execution_count": 1,
      "outputs": [
        {
          "output_type": "stream",
          "name": "stdout",
          "text": [
            "Think of a number between 1 and 100, and I (the AI) will try to guess it.\n",
            "My guess is: 30\n",
            "Enter 'h' if my guess is too high, 'l' if too low, or 'c' if correct: l\n",
            "My guess is: 49\n",
            "Enter 'h' if my guess is too high, 'l' if too low, or 'c' if correct: l\n",
            "My guess is: 83\n",
            "Enter 'h' if my guess is too high, 'l' if too low, or 'c' if correct: h\n",
            "My guess is: 55\n",
            "Enter 'h' if my guess is too high, 'l' if too low, or 'c' if correct: h\n",
            "My guess is: 51\n",
            "Enter 'h' if my guess is too high, 'l' if too low, or 'c' if correct: c\n",
            "I guessed your number in 5 attempts!\n"
          ]
        }
      ]
    },
    {
      "cell_type": "markdown",
      "source": [
        "**TASK 02:**\n",
        "\n",
        "Implement Depth Frist Search (DFS) for AI Number Guessing Game:"
      ],
      "metadata": {
        "id": "Uf3IBL99xUSL"
      }
    },
    {
      "cell_type": "code",
      "source": [
        "import random\n",
        "\n",
        "# Instruct the player to think of a number between the specified range\n",
        "print(\"Think of a number between 1 and 100, and I (the AI) will try to guess it.\")\n",
        "\n",
        "def dfs_number_guessing_game(min_range, max_range, attempt_count=0):\n",
        "    \"\"\"\n",
        "    This function implements the Depth-First Search (DFS) strategy for the number guessing game.\n",
        "\n",
        "    Parameters:\n",
        "    min_range (int): The lower bound of the current search range.\n",
        "    max_range (int): The upper bound of the current search range.\n",
        "    attempt_count (int): The current number of attempts made by the AI.\n",
        "    \"\"\"\n",
        "\n",
        "    # AI makes a guess randomly within the provided range\n",
        "    ai_guess = random.randint(min_range, max_range)\n",
        "    print(f\"My guess is: {ai_guess}\")\n",
        "\n",
        "    # Increment the number of attempts made by the AI\n",
        "    attempt_count += 1\n",
        "\n",
        "    # Get feedback from the user on the AI's guess\n",
        "    player_response = input(\"Enter 'h' if my guess is too high, 'l' if too low, or 'c' if correct: \").lower()\n",
        "\n",
        "    if player_response == 'c':\n",
        "        # If the guess is correct, print the number of attempts it took\n",
        "        print(f\"I guessed the number in {attempt_count} attempts!\")\n",
        "        return\n",
        "    elif player_response == 'h':\n",
        "        # If the guess is too high, continue searching the left half of the current range\n",
        "        dfs_number_guessing_game(min_range, ai_guess - 1, attempt_count)\n",
        "    elif player_response == 'l':\n",
        "        # If the guess is too low, continue searching the right half of the current range\n",
        "        dfs_number_guessing_game(ai_guess + 1, max_range, attempt_count)\n",
        "\n",
        "# Start the number guessing game with an initial range of 1 to 100\n",
        "dfs_number_guessing_game(1, 100)\n"
      ],
      "metadata": {
        "colab": {
          "base_uri": "https://localhost:8080/"
        },
        "id": "Lzaotl66xUqj",
        "outputId": "48e39a9d-f485-44e8-fb2e-878e55305fc8"
      },
      "execution_count": 2,
      "outputs": [
        {
          "output_type": "stream",
          "name": "stdout",
          "text": [
            "Think of a number between 1 and 100, and I (the AI) will try to guess it.\n",
            "My guess is: 44\n",
            "Enter 'h' if my guess is too high, 'l' if too low, or 'c' if correct: l\n",
            "My guess is: 72\n",
            "Enter 'h' if my guess is too high, 'l' if too low, or 'c' if correct: h\n",
            "My guess is: 54\n",
            "Enter 'h' if my guess is too high, 'l' if too low, or 'c' if correct: l\n",
            "My guess is: 60\n",
            "Enter 'h' if my guess is too high, 'l' if too low, or 'c' if correct: c\n",
            "I guessed the number in 4 attempts!\n"
          ]
        }
      ]
    },
    {
      "cell_type": "markdown",
      "source": [
        "TASK 03:\n",
        "\n",
        "Implement Greedy Search Algorithm for AI Number Guessing Game:"
      ],
      "metadata": {
        "id": "0sk-mSupxU-J"
      }
    },
    {
      "cell_type": "code",
      "source": [
        "import random\n",
        "\n",
        "# Instruct the player to think of a number between the specified range\n",
        "print(\"Think of a number between 1 and 100, and I (the AI) will try to guess it using a Greedy Search Algorithm.\")\n",
        "\n",
        "def greedy_guessing_game(min_range, max_range):\n",
        "\n",
        "    attempts = 0  # To keep track of the number of attempts made by the AI\n",
        "\n",
        "    # Start with an arbitrary initial guess (midpoint of the range)\n",
        "    guess = (min_range + max_range) // 2\n",
        "\n",
        "    while True:\n",
        "        # AI makes a guess\n",
        "        print(f\"My guess is: {guess}\")\n",
        "        attempts += 1\n",
        "\n",
        "        # Get feedback from the user on the AI's guess\n",
        "        player_response = input(\"Enter 'h' if my guess is too high, 'l' if too low, or 'c' if correct: \").lower()\n",
        "\n",
        "        if player_response == 'c':\n",
        "            # If the guess is correct, print the number of attempts it took\n",
        "            print(f\"I guessed the number in {attempts} attempts!\")\n",
        "            return\n",
        "        elif player_response == 'h':\n",
        "            # If the guess is too high, greedily reduce the range by moving to the lower half\n",
        "            max_range = guess - 1\n",
        "        elif player_response == 'l':\n",
        "            # If the guess is too low, greedily increase the range by moving to the upper half\n",
        "            min_range = guess + 1\n",
        "\n",
        "        # Greedily select the next guess by moving to the midpoint of the updated range\n",
        "        guess = (min_range + max_range) // 2\n",
        "\n",
        "# Start the guessing game using the greedy search algorithm\n",
        "greedy_guessing_game(1, 100)\n"
      ],
      "metadata": {
        "colab": {
          "base_uri": "https://localhost:8080/"
        },
        "id": "pT8Bl2V1xVjh",
        "outputId": "ad6f9f05-70e7-4658-fdc3-72ca687d1c36"
      },
      "execution_count": 3,
      "outputs": [
        {
          "output_type": "stream",
          "name": "stdout",
          "text": [
            "Think of a number between 1 and 100, and I (the AI) will try to guess it using a Greedy Search Algorithm.\n",
            "My guess is: 50\n",
            "Enter 'h' if my guess is too high, 'l' if too low, or 'c' if correct: h\n",
            "My guess is: 25\n",
            "Enter 'h' if my guess is too high, 'l' if too low, or 'c' if correct: l\n",
            "My guess is: 37\n",
            "Enter 'h' if my guess is too high, 'l' if too low, or 'c' if correct: h\n",
            "My guess is: 31\n",
            "Enter 'h' if my guess is too high, 'l' if too low, or 'c' if correct: h\n",
            "My guess is: 28\n",
            "Enter 'h' if my guess is too high, 'l' if too low, or 'c' if correct: l\n",
            "My guess is: 29\n",
            "Enter 'h' if my guess is too high, 'l' if too low, or 'c' if correct: l\n",
            "My guess is: 30\n",
            "Enter 'h' if my guess is too high, 'l' if too low, or 'c' if correct: c\n",
            "I guessed the number in 7 attempts!\n"
          ]
        }
      ]
    }
  ]
}
